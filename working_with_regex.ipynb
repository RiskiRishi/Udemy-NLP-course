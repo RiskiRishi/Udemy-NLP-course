{
 "cells": [
  {
   "cell_type": "code",
   "execution_count": 2,
   "id": "463d8206",
   "metadata": {},
   "outputs": [],
   "source": [
    "###\n",
    "#Regex lingo\n",
    "#/d - digits \n",
    "# . - wildcard character\n",
    "# $ - find a pattern at the end of text\n",
    "# ^ - finds a pattern at the start of text\n",
    "# [] - excludes any pattern inside the bracket\n",
    "# []+ - excludes and groups pattern inside the bracket\n",
    "# () - includes/ searches for pattern inside the bracket\n",
    "# ()+ - includes and groups \n"
   ]
  },
  {
   "cell_type": "code",
   "execution_count": 3,
   "id": "27339719",
   "metadata": {},
   "outputs": [],
   "source": [
    "text = \"my phone number is 999-888-7676. Call me!\""
   ]
  },
  {
   "cell_type": "code",
   "execution_count": 4,
   "id": "655f77d2",
   "metadata": {},
   "outputs": [
    {
     "data": {
      "text/plain": [
       "True"
      ]
     },
     "execution_count": 4,
     "metadata": {},
     "output_type": "execute_result"
    }
   ],
   "source": [
    "\"999-888-7676\" in text"
   ]
  },
  {
   "cell_type": "code",
   "execution_count": 8,
   "id": "27da6f81",
   "metadata": {},
   "outputs": [
    {
     "data": {
      "text/plain": [
       "(3, 8)"
      ]
     },
     "execution_count": 8,
     "metadata": {},
     "output_type": "execute_result"
    }
   ],
   "source": [
    "import re\n",
    "pattern=\"phone\"\n",
    "my_match = re.search(pattern,text)\n",
    "my_match.span()"
   ]
  },
  {
   "cell_type": "code",
   "execution_count": 9,
   "id": "576caf77",
   "metadata": {},
   "outputs": [
    {
     "data": {
      "text/plain": [
       "3"
      ]
     },
     "execution_count": 9,
     "metadata": {},
     "output_type": "execute_result"
    }
   ],
   "source": [
    "my_match.start()"
   ]
  },
  {
   "cell_type": "code",
   "execution_count": 10,
   "id": "26d38f6c",
   "metadata": {},
   "outputs": [
    {
     "data": {
      "text/plain": [
       "8"
      ]
     },
     "execution_count": 10,
     "metadata": {},
     "output_type": "execute_result"
    }
   ],
   "source": [
    "my_match.end()"
   ]
  },
  {
   "cell_type": "markdown",
   "id": "c0107725",
   "metadata": {},
   "source": [
    "text = \"my phone is a new phone\""
   ]
  },
  {
   "cell_type": "code",
   "execution_count": 11,
   "id": "efc1dd2a",
   "metadata": {},
   "outputs": [
    {
     "data": {
      "text/plain": [
       "'my phone number is 999-888-7676. Call me!'"
      ]
     },
     "execution_count": 11,
     "metadata": {},
     "output_type": "execute_result"
    }
   ],
   "source": [
    "text"
   ]
  },
  {
   "cell_type": "code",
   "execution_count": 12,
   "id": "722dcaa9",
   "metadata": {},
   "outputs": [],
   "source": [
    "tt= \"my phone is a new phone\""
   ]
  },
  {
   "cell_type": "code",
   "execution_count": 15,
   "id": "b8a0ac2f",
   "metadata": {},
   "outputs": [],
   "source": [
    "all_matches = re.findall(\"phone\",tt)"
   ]
  },
  {
   "cell_type": "code",
   "execution_count": 16,
   "id": "4c8a8ac4",
   "metadata": {},
   "outputs": [
    {
     "data": {
      "text/plain": [
       "2"
      ]
     },
     "execution_count": 16,
     "metadata": {},
     "output_type": "execute_result"
    }
   ],
   "source": [
    "len(all_matches)"
   ]
  },
  {
   "cell_type": "code",
   "execution_count": 17,
   "id": "acf56a37",
   "metadata": {},
   "outputs": [
    {
     "name": "stdout",
     "output_type": "stream",
     "text": [
      "(3, 8)\n",
      "(18, 23)\n"
     ]
    }
   ],
   "source": [
    "for match in re.finditer(\"phone\",tt):\n",
    "    print(match.span())"
   ]
  },
  {
   "cell_type": "code",
   "execution_count": 19,
   "id": "4226a061",
   "metadata": {},
   "outputs": [],
   "source": [
    "pattern = r\"\\d\\d\\d-\\d\\d\\d-\\d\\d\\d\\d\" "
   ]
  },
  {
   "cell_type": "code",
   "execution_count": 20,
   "id": "344b9a44",
   "metadata": {},
   "outputs": [],
   "source": [
    "phone_num = re.search(pattern,text)"
   ]
  },
  {
   "cell_type": "code",
   "execution_count": 21,
   "id": "59b4b73a",
   "metadata": {},
   "outputs": [
    {
     "data": {
      "text/plain": [
       "'999-888-7676'"
      ]
     },
     "execution_count": 21,
     "metadata": {},
     "output_type": "execute_result"
    }
   ],
   "source": [
    "phone_num.group()"
   ]
  },
  {
   "cell_type": "code",
   "execution_count": 25,
   "id": "3d9f4203",
   "metadata": {},
   "outputs": [],
   "source": [
    "pattern = r\"(\\d{3})-(\\d{3})-(\\d{4})\""
   ]
  },
  {
   "cell_type": "code",
   "execution_count": 26,
   "id": "aee87ad7",
   "metadata": {},
   "outputs": [],
   "source": [
    "phone = re.search(pattern,text)"
   ]
  },
  {
   "cell_type": "code",
   "execution_count": 27,
   "id": "5ccb2cf1",
   "metadata": {},
   "outputs": [
    {
     "data": {
      "text/plain": [
       "'999'"
      ]
     },
     "execution_count": 27,
     "metadata": {},
     "output_type": "execute_result"
    }
   ],
   "source": [
    "phone.group(1)"
   ]
  },
  {
   "cell_type": "raw",
   "id": "7a1d6e0c",
   "metadata": {},
   "source": [
    "re.search(r\"man|woman\",\"This woman is here\")"
   ]
  },
  {
   "cell_type": "code",
   "execution_count": 28,
   "id": "ff9179c2",
   "metadata": {},
   "outputs": [
    {
     "data": {
      "text/plain": [
       "<re.Match object; span=(5, 10), match='woman'>"
      ]
     },
     "execution_count": 28,
     "metadata": {},
     "output_type": "execute_result"
    }
   ],
   "source": [
    "re.search(r\"man|woman\",\"This woman is here\")"
   ]
  },
  {
   "cell_type": "code",
   "execution_count": 30,
   "id": "0c3bb439",
   "metadata": {},
   "outputs": [
    {
     "data": {
      "text/plain": [
       "['cat', 'sat', 'hat', 'lat']"
      ]
     },
     "execution_count": 30,
     "metadata": {},
     "output_type": "execute_result"
    }
   ],
   "source": [
    "re.findall(r\"..at\",\"The cat sat in the hat.. splat\")"
   ]
  },
  {
   "cell_type": "code",
   "execution_count": 31,
   "id": "b9a6c5c4",
   "metadata": {},
   "outputs": [
    {
     "data": {
      "text/plain": [
       "['2']"
      ]
     },
     "execution_count": 31,
     "metadata": {},
     "output_type": "execute_result"
    }
   ],
   "source": [
    "re.findall(r\"\\d$\",\"$ sign suggests that regex will try to find a number in the end of the sentence for example : 2\")"
   ]
  },
  {
   "cell_type": "code",
   "execution_count": 32,
   "id": "1b8d03e9",
   "metadata": {},
   "outputs": [
    {
     "data": {
      "text/plain": [
       "['1']"
      ]
     },
     "execution_count": 32,
     "metadata": {},
     "output_type": "execute_result"
    }
   ],
   "source": [
    "re.findall(r\"^\\d\",\"1 : ^ sign suggests that regex will try to find a number in the start of the sentence for example\")"
   ]
  },
  {
   "cell_type": "code",
   "execution_count": 33,
   "id": "71be59bd",
   "metadata": {},
   "outputs": [],
   "source": [
    "phrase = \"there are 3 numbers 34 inside 5 this sentence\""
   ]
  },
  {
   "cell_type": "code",
   "execution_count": 35,
   "id": "26d45ce0",
   "metadata": {},
   "outputs": [
    {
     "data": {
      "text/plain": [
       "['there are ', ' numbers ', ' inside ', ' this sentence']"
      ]
     },
     "execution_count": 35,
     "metadata": {},
     "output_type": "execute_result"
    }
   ],
   "source": [
    "re.findall(r\"[^\\d]+\", phrase)"
   ]
  },
  {
   "cell_type": "code",
   "execution_count": 36,
   "id": "28be145c",
   "metadata": {},
   "outputs": [],
   "source": [
    "test_phrase = \"This is a string! but it has punchutations. How to remove it?\""
   ]
  },
  {
   "cell_type": "code",
   "execution_count": 38,
   "id": "8fc6314d",
   "metadata": {},
   "outputs": [],
   "source": [
    "my_list = re.findall(r\"[^!.?]\",test_phrase)"
   ]
  },
  {
   "cell_type": "code",
   "execution_count": 40,
   "id": "ea51743e",
   "metadata": {},
   "outputs": [
    {
     "data": {
      "text/plain": [
       "'This is a string but it has punchutations How to remove it'"
      ]
     },
     "execution_count": 40,
     "metadata": {},
     "output_type": "execute_result"
    }
   ],
   "source": [
    "''.join(my_list)"
   ]
  },
  {
   "cell_type": "code",
   "execution_count": 41,
   "id": "81668fcf",
   "metadata": {},
   "outputs": [],
   "source": [
    "text = \" Only find the hyphen-words. Where are the long-ish dash words?\""
   ]
  },
  {
   "cell_type": "code",
   "execution_count": 44,
   "id": "80a7e91c",
   "metadata": {},
   "outputs": [
    {
     "data": {
      "text/plain": [
       "['hyphen-words', 'long-ish']"
      ]
     },
     "execution_count": 44,
     "metadata": {},
     "output_type": "execute_result"
    }
   ],
   "source": [
    "re.findall(r\"\\w+-\\w+\",text)"
   ]
  },
  {
   "cell_type": "code",
   "execution_count": null,
   "id": "b63e0270",
   "metadata": {},
   "outputs": [],
   "source": []
  }
 ],
 "metadata": {
  "kernelspec": {
   "display_name": "Python 3 (ipykernel)",
   "language": "python",
   "name": "python3"
  },
  "language_info": {
   "codemirror_mode": {
    "name": "ipython",
    "version": 3
   },
   "file_extension": ".py",
   "mimetype": "text/x-python",
   "name": "python",
   "nbconvert_exporter": "python",
   "pygments_lexer": "ipython3",
   "version": "3.7.16"
  }
 },
 "nbformat": 4,
 "nbformat_minor": 5
}
