{
 "cells": [
  {
   "cell_type": "code",
   "execution_count": 1,
   "id": "f3331961",
   "metadata": {},
   "outputs": [],
   "source": [
    "import spacy\n",
    "nlp = spacy.load('en_core_web_sm')"
   ]
  },
  {
   "cell_type": "code",
   "execution_count": 12,
   "id": "ab5ac4b2",
   "metadata": {},
   "outputs": [
    {
     "name": "stdout",
     "output_type": "stream",
     "text": [
      "{'first', 'these', 'else', 'whence', 'at', 'he', 'before', 'because', 'our', 'two', 'each', 'so', 'of', 'the', 'my', 'ever', 'becoming', 'latterly', 'bottom', 'herself', 'serious', 'is', 'could', 'anywhere', 'this', 'empty', 'what', 'already', 'please', 'among', 'thence', 'fifteen', 'on', 'every', 'nevertheless', 'nowhere', 'own', 'using', 'formerly', 'put', 'which', 'whereafter', 'who', 'yet', 'it', 'otherwise', 'third', 'many', 'noone', 'often', 'themselves', 'besides', 'to', 'yours', 'behind', 'a', 'those', 'wherein', 'wherever', 'hereby', 'out', 'and', 'everyone', 'take', 'former', 'herein', 'him', 'may', 'almost', 'sometimes', 'used', 'into', 'all', 'only', 'are', 'i', 'some', 'whether', 'by', 'without', 'due', 'too', 'after', 'would', 'hereupon', 'three', 'therefore', 'unless', 'nine', 'whereas', 'where', 'elsewhere', 'your', 'seemed', 'ten', 'with', 'now', 'over', 'doing', 'however', 'never', 'show', 'thru', 'how', 'along', 'really', 'them', 'was', 'whom', 'give', 'while', 'around', 'enough', 'beyond', 'anyhow', 'most', 'four', 'next', 'once', 'forty', 'about', 'myself', 'side', 'even', 'whereupon', 'anyone', 'front', 'amongst', 'hundred', 'than', 'mine', 'became', 'might', 'much', 'below', 'yourselves', 'fifty', 'alone', 'amount', 'up', 'twenty', 'indeed', 'anything', 'me', 'toward', 'various', 'cannot', 'another', 'an', 'go', 'again', 'hence', 'see', 'latter', 'nobody', 'something', 'thereupon', 'get', 'quite', 'himself', 'other', 'since', 'name', 'same', 'there', 'thereby', 'under', 'until', 'down', 'were', 'whenever', 'rather', 'call', 'such', 'its', 'although', 'top', 'per', 'upon', 'when', 'least', 'whose', 'any', 'perhaps', 'six', 'they', 'above', 'anyway', 'should', 'few', 'still', 'become', 'hers', 'full', 'will', 'moreover', 'has', 'one', 'more', 'no', 'nor', 'for', 'through', 'whatever', 'that', 'but', 'onto', 'or', 'therein', 'either', 'someone', 'can', 'made', 'be', 'both', 'then', 'do', 'very', 'less', 'move', 'thus', 'five', 'just', 'itself', 'seems', 'except', 'across', 'say', 'regarding', 'off', 'keep', 'his', 'whereby', 'mostly', 'neither', 'via', 'we', 'her', 'hereafter', 'here', 'eight', 'make', 'am', 'yourself', 'beforehand', 'ours', 'you', 'must', 'everything', 'sometime', 'why', 'as', 'further', 'becomes', 'last', 'their', 'thereafter', 'beside', 'been', 'somewhere', 'ourselves', 'during', 'being', 'ca', 'eleven', 'did', 'meanwhile', 'several', 'together', 'towards', 'well', 'against', 'in', 'somehow', 'throughout', 'within', 'others', 'nothing', 'between', 'also', 'afterwards', 'she', 'have', 'from', 'though', 'had', 'whole', 'btw', 'namely', 'everywhere', 'seem', 'sixty', 'whoever', 'seeming', 'if', 'back', 'part', 'whither', 'does', 'always', 'none', 'done', 're', 'twelve', 'not', 'us'}\n"
     ]
    }
   ],
   "source": [
    "print(nlp.Defaults.stop_words)"
   ]
  },
  {
   "cell_type": "code",
   "execution_count": 10,
   "id": "d6856837",
   "metadata": {},
   "outputs": [
    {
     "data": {
      "text/plain": [
       "306"
      ]
     },
     "execution_count": 10,
     "metadata": {},
     "output_type": "execute_result"
    }
   ],
   "source": [
    "len(nlp.Defaults.stop_words)"
   ]
  },
  {
   "cell_type": "code",
   "execution_count": 6,
   "id": "e7dc2b28",
   "metadata": {},
   "outputs": [
    {
     "data": {
      "text/plain": [
       "False"
      ]
     },
     "execution_count": 6,
     "metadata": {},
     "output_type": "execute_result"
    }
   ],
   "source": [
    "nlp.vocab['mystery'].is_stop"
   ]
  },
  {
   "cell_type": "code",
   "execution_count": 7,
   "id": "8363cc6c",
   "metadata": {},
   "outputs": [],
   "source": [
    "nlp.Defaults.stop_words.add('btw')"
   ]
  },
  {
   "cell_type": "code",
   "execution_count": 9,
   "id": "f768d2a8",
   "metadata": {},
   "outputs": [],
   "source": [
    "nlp.vocab['btw'].is_stop = True"
   ]
  },
  {
   "cell_type": "code",
   "execution_count": 11,
   "id": "9632ca68",
   "metadata": {},
   "outputs": [
    {
     "data": {
      "text/plain": [
       "True"
      ]
     },
     "execution_count": 11,
     "metadata": {},
     "output_type": "execute_result"
    }
   ],
   "source": [
    "nlp.vocab['btw'].is_stop"
   ]
  },
  {
   "cell_type": "code",
   "execution_count": 13,
   "id": "c0ae7dc0",
   "metadata": {},
   "outputs": [],
   "source": [
    "nlp.Defaults.stop_words.remove('beyond')"
   ]
  },
  {
   "cell_type": "code",
   "execution_count": 14,
   "id": "27fe22c7",
   "metadata": {},
   "outputs": [],
   "source": [
    "nlp.vocab['beyond'].is_stop= False"
   ]
  },
  {
   "cell_type": "code",
   "execution_count": 15,
   "id": "5b3f6431",
   "metadata": {},
   "outputs": [
    {
     "data": {
      "text/plain": [
       "False"
      ]
     },
     "execution_count": 15,
     "metadata": {},
     "output_type": "execute_result"
    }
   ],
   "source": [
    "nlp.vocab['beyond'].is_stop"
   ]
  },
  {
   "cell_type": "code",
   "execution_count": null,
   "id": "3972bf66",
   "metadata": {},
   "outputs": [],
   "source": []
  }
 ],
 "metadata": {
  "kernelspec": {
   "display_name": "Python 3 (ipykernel)",
   "language": "python",
   "name": "python3"
  },
  "language_info": {
   "codemirror_mode": {
    "name": "ipython",
    "version": 3
   },
   "file_extension": ".py",
   "mimetype": "text/x-python",
   "name": "python",
   "nbconvert_exporter": "python",
   "pygments_lexer": "ipython3",
   "version": "3.7.16"
  }
 },
 "nbformat": 4,
 "nbformat_minor": 5
}
